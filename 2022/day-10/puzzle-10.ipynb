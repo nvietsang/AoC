{
 "cells": [
  {
   "cell_type": "code",
   "execution_count": 11,
   "metadata": {},
   "outputs": [],
   "source": [
    "f = open(\"puzzle-10-input.txt\", \"r\")\n",
    "data = f.read()\n",
    "f.close()\n",
    "\n",
    "data = data.splitlines()\n",
    "# data"
   ]
  },
  {
   "cell_type": "code",
   "execution_count": 12,
   "metadata": {},
   "outputs": [
    {
     "data": {
      "text/plain": [
       "14920"
      ]
     },
     "execution_count": 12,
     "metadata": {},
     "output_type": "execute_result"
    }
   ],
   "source": [
    "x = 1\n",
    "cycle = 0\n",
    "\n",
    "s = 0\n",
    "\n",
    "def strengthen(cycle, x, s):\n",
    "    match cycle:\n",
    "        case 20:\n",
    "            s += x * 20\n",
    "        case 60:\n",
    "            s += x * 60\n",
    "        case 100:\n",
    "            s += x * 100\n",
    "        case 140:\n",
    "            s += x * 140\n",
    "        case 180:\n",
    "            s += x * 180\n",
    "        case 220:\n",
    "            s += x * 220\n",
    "        case _:\n",
    "            pass\n",
    "\n",
    "    return x, s\n",
    "\n",
    "for cmd in data:\n",
    "    if cmd == \"noop\":\n",
    "        cycle += 1\n",
    "        x, s = strengthen(cycle, x, s)\n",
    "    else:\n",
    "        cycle += 1\n",
    "        x, s = strengthen(cycle, x, s)\n",
    "        cycle += 1\n",
    "        x, s = strengthen(cycle, x, s)\n",
    "        x += int(cmd.split()[1])\n",
    "\n",
    "s"
   ]
  },
  {
   "cell_type": "code",
   "execution_count": 29,
   "metadata": {},
   "outputs": [
    {
     "name": "stdout",
     "output_type": "stream",
     "text": [
      "\n",
      "###..#..#..##...##...##..###..#..#.####.\n",
      "#..#.#..#.#..#.#..#.#..#.#..#.#..#....#.\n",
      "###..#..#.#....#..#.#....###..#..#...#..\n",
      "#..#.#..#.#....####.#....#..#.#..#..#...\n",
      "#..#.#..#.#..#.#..#.#..#.#..#.#..#.#....\n",
      "###...##...##..#..#..##..###...##..####."
     ]
    }
   ],
   "source": [
    "f = open(\"puzzle-10-input.txt\", \"r\")\n",
    "data = f.read()\n",
    "f.close()\n",
    "\n",
    "data = data.splitlines()\n",
    "\n",
    "sprite = 0\n",
    "cycle = 0\n",
    "pixel_position = 0\n",
    "\n",
    "def draw(sprite, cycle):\n",
    "    pixel_position = cycle % 40\n",
    "    if pixel_position == 0:\n",
    "        print(\"\")\n",
    "    if sprite <= pixel_position <= sprite + 2:\n",
    "        print(\"#\", end=\"\")\n",
    "    else:\n",
    "        print(\".\", end=\"\")\n",
    "\n",
    "for cmd in data:\n",
    "    if cmd == \"noop\":\n",
    "        draw(sprite, cycle)\n",
    "        cycle += 1\n",
    "    else:\n",
    "        draw(sprite, cycle)\n",
    "        cycle += 1\n",
    "        draw(sprite, cycle)\n",
    "        cycle += 1\n",
    "        sprite += int(cmd.split()[1])\n",
    "\n"
   ]
  }
 ],
 "metadata": {
  "kernelspec": {
   "display_name": "Python 3.10.2 64-bit",
   "language": "python",
   "name": "python3"
  },
  "language_info": {
   "codemirror_mode": {
    "name": "ipython",
    "version": 3
   },
   "file_extension": ".py",
   "mimetype": "text/x-python",
   "name": "python",
   "nbconvert_exporter": "python",
   "pygments_lexer": "ipython3",
   "version": "3.10.2"
  },
  "orig_nbformat": 4,
  "vscode": {
   "interpreter": {
    "hash": "aee8b7b246df8f9039afb4144a1f6fd8d2ca17a180786b69acc140d282b71a49"
   }
  }
 },
 "nbformat": 4,
 "nbformat_minor": 2
}
