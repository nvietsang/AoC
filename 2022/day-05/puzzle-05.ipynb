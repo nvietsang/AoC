{
 "cells": [
  {
   "cell_type": "code",
   "execution_count": 11,
   "metadata": {},
   "outputs": [],
   "source": [
    "f = open(\"puzzle-05-input.txt\", \"r\")\n",
    "data = f.readlines()\n",
    "f.close()\n",
    "\n",
    "X_raw = [line.replace(\"\\n\", \"\") for line in data[:8]]\n",
    "Y_raw = [line.replace(\"\\n\", \"\") for line in data[10:]]"
   ]
  },
  {
   "cell_type": "code",
   "execution_count": 12,
   "metadata": {},
   "outputs": [
    {
     "data": {
      "text/plain": [
       "['[T]     [D]         [L]            ',\n",
       " '[R]     [S] [G]     [P]         [H]',\n",
       " '[G]     [H] [W]     [R] [L]     [P]',\n",
       " '[W]     [G] [F] [H] [S] [M]     [L]',\n",
       " '[Q]     [V] [B] [J] [H] [N] [R] [N]',\n",
       " '[M] [R] [R] [P] [M] [T] [H] [Q] [C]',\n",
       " '[F] [F] [Z] [H] [S] [Z] [T] [D] [S]',\n",
       " '[P] [H] [P] [Q] [P] [M] [P] [F] [D]']"
      ]
     },
     "execution_count": 12,
     "metadata": {},
     "output_type": "execute_result"
    }
   ],
   "source": [
    "X_raw"
   ]
  },
  {
   "cell_type": "markdown",
   "metadata": {},
   "source": [
    "1   5   9   13   17   21   25    29"
   ]
  },
  {
   "cell_type": "code",
   "execution_count": 42,
   "metadata": {},
   "outputs": [
    {
     "data": {
      "text/plain": [
       "[['P', 'F', 'M', 'Q', 'W', 'G', 'R', 'T'],\n",
       " ['H', 'F', 'R'],\n",
       " ['P', 'Z', 'R', 'V', 'G', 'H', 'S', 'D'],\n",
       " ['Q', 'H', 'P', 'B', 'F', 'W', 'G'],\n",
       " ['P', 'S', 'M', 'J', 'H'],\n",
       " ['M', 'Z', 'T', 'H', 'S', 'R', 'P', 'L'],\n",
       " ['P', 'T', 'H', 'N', 'M', 'L'],\n",
       " ['F', 'D', 'Q', 'R'],\n",
       " ['D', 'S', 'C', 'N', 'L', 'P', 'H']]"
      ]
     },
     "execution_count": 42,
     "metadata": {},
     "output_type": "execute_result"
    }
   ],
   "source": [
    "X = []\n",
    "\n",
    "for col in range(9):\n",
    "    T = reversed([list(line)[col*4 + 1] for line in X_raw])\n",
    "    X.append([t for t in T])\n",
    "\n",
    "for i in range(9):\n",
    "    T = \"\".join(X[i]).replace(\" \", \"\")\n",
    "    X[i] = list(T)\n",
    "\n",
    "X\n"
   ]
  },
  {
   "cell_type": "code",
   "execution_count": 43,
   "metadata": {},
   "outputs": [
    {
     "data": {
      "text/plain": [
       "[['R', 'Q', 'M', 'M', 'T'],\n",
       " ['H', 'S', 'R', 'P'],\n",
       " ['T', 'Z', 'D', 'C', 'P', 'G'],\n",
       " ['F', 'V'],\n",
       " ['Q'],\n",
       " ['P',\n",
       "  'H',\n",
       "  'P',\n",
       "  'S',\n",
       "  'G',\n",
       "  'R',\n",
       "  'N',\n",
       "  'M',\n",
       "  'S',\n",
       "  'G',\n",
       "  'R',\n",
       "  'M',\n",
       "  'F',\n",
       "  'W',\n",
       "  'H',\n",
       "  'S',\n",
       "  'H',\n",
       "  'B',\n",
       "  'L',\n",
       "  'P'],\n",
       " ['F', 'F'],\n",
       " ['R', 'P', 'H', 'L', 'Z', 'W', 'L', 'T', 'N', 'H', 'J', 'D', 'Q', 'P', 'D'],\n",
       " ['H']]"
      ]
     },
     "execution_count": 43,
     "metadata": {},
     "output_type": "execute_result"
    }
   ],
   "source": [
    "for line in Y_raw:\n",
    "    L = line.split(\" \")\n",
    "    n = int(L[1])\n",
    "    a = int(L[3]) - 1\n",
    "    b = int(L[5]) - 1\n",
    "\n",
    "    for _ in range(n):\n",
    "        # if len(X[a]) > 0:\n",
    "        u = X[a].pop()\n",
    "        X[b].append(u)\n",
    "\n",
    "X"
   ]
  },
  {
   "cell_type": "code",
   "execution_count": 44,
   "metadata": {},
   "outputs": [
    {
     "data": {
      "text/plain": [
       "'TPGVQPFDH'"
      ]
     },
     "execution_count": 44,
     "metadata": {},
     "output_type": "execute_result"
    }
   ],
   "source": [
    "R = ''\n",
    "for line in X:\n",
    "    R += line[-1]\n",
    "R"
   ]
  },
  {
   "cell_type": "code",
   "execution_count": 54,
   "metadata": {},
   "outputs": [
    {
     "data": {
      "text/plain": [
       "[['P', 'F', 'M', 'Q', 'W', 'G', 'R', 'T'],\n",
       " ['H', 'F', 'R'],\n",
       " ['P', 'Z', 'R', 'V', 'G', 'H', 'S', 'D'],\n",
       " ['Q', 'H', 'P', 'B', 'F', 'W', 'G'],\n",
       " ['P', 'S', 'M', 'J', 'H'],\n",
       " ['M', 'Z', 'T', 'H', 'S', 'R', 'P', 'L'],\n",
       " ['P', 'T', 'H', 'N', 'M', 'L'],\n",
       " ['F', 'D', 'Q', 'R'],\n",
       " ['D', 'S', 'C', 'N', 'L', 'P', 'H']]"
      ]
     },
     "execution_count": 54,
     "metadata": {},
     "output_type": "execute_result"
    }
   ],
   "source": [
    "X = []\n",
    "\n",
    "for col in range(9):\n",
    "    T = reversed([list(line)[col*4 + 1] for line in X_raw])\n",
    "    X.append([t for t in T])\n",
    "\n",
    "for i in range(9):\n",
    "    T = \"\".join(X[i]).replace(\" \", \"\")\n",
    "    X[i] = list(T)\n",
    "\n",
    "X"
   ]
  },
  {
   "cell_type": "code",
   "execution_count": 55,
   "metadata": {},
   "outputs": [
    {
     "data": {
      "text/plain": [
       "[['V', 'T', 'J', 'P', 'D'],\n",
       " ['M', 'H', 'N', 'M'],\n",
       " ['N', 'T', 'P', 'F', 'Q', 'R'],\n",
       " ['Q', 'D'],\n",
       " ['F'],\n",
       " ['B',\n",
       "  'Z',\n",
       "  'W',\n",
       "  'W',\n",
       "  'S',\n",
       "  'L',\n",
       "  'L',\n",
       "  'G',\n",
       "  'M',\n",
       "  'P',\n",
       "  'P',\n",
       "  'D',\n",
       "  'Q',\n",
       "  'S',\n",
       "  'R',\n",
       "  'F',\n",
       "  'R',\n",
       "  'P',\n",
       "  'H',\n",
       "  'R'],\n",
       " ['P', 'H'],\n",
       " ['Z', 'L', 'C', 'H', 'F', 'G', 'H', 'P', 'G', 'R', 'S', 'M', 'T', 'S', 'H'],\n",
       " ['H']]"
      ]
     },
     "execution_count": 55,
     "metadata": {},
     "output_type": "execute_result"
    }
   ],
   "source": [
    "for line in Y_raw:\n",
    "    L = line.split(\" \")\n",
    "    n = int(L[1])\n",
    "    a = int(L[3]) - 1\n",
    "    b = int(L[5]) - 1\n",
    "\n",
    "    # for _ in range(n):\n",
    "        # if len(X[a]) > 0:\n",
    "    T = X[a][-n:]\n",
    "    X[a] = X[a][:-n]\n",
    "    X[b] = X[b] + T\n",
    "\n",
    "X"
   ]
  },
  {
   "cell_type": "code",
   "execution_count": 56,
   "metadata": {},
   "outputs": [
    {
     "data": {
      "text/plain": [
       "'DMRDFRHHH'"
      ]
     },
     "execution_count": 56,
     "metadata": {},
     "output_type": "execute_result"
    }
   ],
   "source": [
    "R = ''\n",
    "for line in X:\n",
    "    if len(line) > 0:\n",
    "        R += line[-1]\n",
    "R"
   ]
  }
 ],
 "metadata": {
  "kernelspec": {
   "display_name": "Python 3.10.2 64-bit",
   "language": "python",
   "name": "python3"
  },
  "language_info": {
   "codemirror_mode": {
    "name": "ipython",
    "version": 3
   },
   "file_extension": ".py",
   "mimetype": "text/x-python",
   "name": "python",
   "nbconvert_exporter": "python",
   "pygments_lexer": "ipython3",
   "version": "3.10.2"
  },
  "orig_nbformat": 4,
  "vscode": {
   "interpreter": {
    "hash": "aee8b7b246df8f9039afb4144a1f6fd8d2ca17a180786b69acc140d282b71a49"
   }
  }
 },
 "nbformat": 4,
 "nbformat_minor": 2
}
