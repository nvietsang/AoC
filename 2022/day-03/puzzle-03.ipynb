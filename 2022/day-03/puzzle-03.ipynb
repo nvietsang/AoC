{
 "cells": [
  {
   "cell_type": "code",
   "execution_count": 7,
   "metadata": {},
   "outputs": [],
   "source": [
    "f = open(\"puzzle-03-input.txt\", \"r\")\n",
    "data = f.read()\n",
    "f.close()\n",
    "\n",
    "data = data.split(\"\\n\")\n",
    "data = data[:-1]"
   ]
  },
  {
   "cell_type": "code",
   "execution_count": 10,
   "metadata": {},
   "outputs": [],
   "source": [
    "lower = \"abcdefghijklmnopqrstuvwxyz\"\n",
    "upper = \"ABCDEFGHIJKLMNOPQRSTUVWXYZ\"\n",
    "alphabet = lower + upper\n",
    "alphabetdict = {char: i+1 for i, char in enumerate(alphabet)}\n"
   ]
  },
  {
   "cell_type": "code",
   "execution_count": 11,
   "metadata": {},
   "outputs": [
    {
     "name": "stdout",
     "output_type": "stream",
     "text": [
      "8088\n"
     ]
    }
   ],
   "source": [
    "total = 0\n",
    "for line in data:\n",
    "    s = len(line)//2\n",
    "    L = line[:s]\n",
    "    R = line[s:]\n",
    "    a = set(line)\n",
    "    for x in a:\n",
    "        if x in L and x in R:\n",
    "            common = x\n",
    "            break\n",
    "    \n",
    "    total += alphabetdict[common]\n",
    "print(total)"
   ]
  },
  {
   "cell_type": "markdown",
   "metadata": {},
   "source": []
  },
  {
   "cell_type": "code",
   "execution_count": 13,
   "metadata": {},
   "outputs": [
    {
     "name": "stdout",
     "output_type": "stream",
     "text": [
      "2522\n"
     ]
    }
   ],
   "source": [
    "n_groups = len(data)//3\n",
    "total = 0\n",
    "for i in range(n_groups):\n",
    "    ig = i*3\n",
    "    group = data[ig] + data[ig+1] + data[ig+2]\n",
    "    a = set(group)\n",
    "    for x in a:\n",
    "        if x in data[ig] and x in data[ig+1] and x in data[ig+2]:\n",
    "            common = x\n",
    "            break\n",
    "    total += alphabetdict[common]\n",
    "print(total)"
   ]
  }
 ],
 "metadata": {
  "kernelspec": {
   "display_name": "Python 3.10.2 64-bit",
   "language": "python",
   "name": "python3"
  },
  "language_info": {
   "codemirror_mode": {
    "name": "ipython",
    "version": 3
   },
   "file_extension": ".py",
   "mimetype": "text/x-python",
   "name": "python",
   "nbconvert_exporter": "python",
   "pygments_lexer": "ipython3",
   "version": "3.10.2"
  },
  "orig_nbformat": 4,
  "vscode": {
   "interpreter": {
    "hash": "aee8b7b246df8f9039afb4144a1f6fd8d2ca17a180786b69acc140d282b71a49"
   }
  }
 },
 "nbformat": 4,
 "nbformat_minor": 2
}
