{
 "cells": [
  {
   "cell_type": "code",
   "execution_count": 1,
   "metadata": {},
   "outputs": [],
   "source": [
    "f = open(\"puzzle-14-input.txt\", \"r\")\n",
    "data = f.read()\n",
    "f.close()\n",
    "\n",
    "data = data.splitlines()\n",
    "data = [line.split(\" -> \") for line in data]\n",
    "data = [[(int(t.split(\",\")[0]), int(t.split(\",\")[1])) for t in line] for line in data]"
   ]
  },
  {
   "cell_type": "code",
   "execution_count": 3,
   "metadata": {},
   "outputs": [],
   "source": [
    "def draw_straight_line(src, dst):\n",
    "    line = [src]\n",
    "    x0, y0 = src\n",
    "    x1, y1 = dst\n",
    "    if x0 == x1:\n",
    "        ymin, ymax = min(y0, y1), max(y0, y1)\n",
    "        for y in range(ymin, ymax):\n",
    "            line.append((x0, y))\n",
    "    elif y0 == y1:\n",
    "        xmin, xmax = min(x0, x1), max(x0, x1)\n",
    "        for x in range(xmin, xmax):\n",
    "            line.append((x, y0))\n",
    "    else:\n",
    "        raise ValueError\n",
    "    line.append(dst)\n",
    "    return line"
   ]
  },
  {
   "cell_type": "code",
   "execution_count": 5,
   "metadata": {},
   "outputs": [
    {
     "data": {
      "text/plain": [
       "858"
      ]
     },
     "execution_count": 5,
     "metadata": {},
     "output_type": "execute_result"
    }
   ],
   "source": [
    "rock_points = []\n",
    "for line in data:\n",
    "    np = len(line)\n",
    "    for i in range(np-1):\n",
    "        rock_points += draw_straight_line(line[i], line[i+1])\n",
    "\n",
    "rock_points = set(rock_points)\n",
    "n_rocks = len(rock_points)\n",
    "ymax = max(y for x,y in rock_points)\n",
    "\n",
    "n_sand = 0\n",
    "is_endless = False\n",
    "while True:\n",
    "    n_sand += 1\n",
    "    (xs, ys) = (500, 0)\n",
    "    while True:\n",
    "        # print(xs, ys)\n",
    "        if (xs, ys+1) not in rock_points:\n",
    "            ys += 1\n",
    "            if ys > ymax:\n",
    "                is_endless = True\n",
    "                break\n",
    "            else:\n",
    "                continue\n",
    "        if (xs-1, ys+1) not in rock_points:\n",
    "            xs -= 1\n",
    "            ys += 1\n",
    "            if ys > ymax:\n",
    "                is_endless = True\n",
    "                break\n",
    "            else:\n",
    "                continue\n",
    "        if (xs+1, ys+1) not in rock_points:\n",
    "            xs += 1\n",
    "            ys += 1\n",
    "            if ys > ymax:\n",
    "                is_endless = True\n",
    "                break\n",
    "            else:\n",
    "                continue\n",
    "\n",
    "        # rest\n",
    "        # print((xs, ys))\n",
    "        rock_points.add((xs, ys))\n",
    "        break\n",
    "\n",
    "    if is_endless:\n",
    "        break\n",
    "\n",
    "n_sand = len(rock_points) - n_rocks\n",
    "n_sand"
   ]
  },
  {
   "cell_type": "code",
   "execution_count": 4,
   "metadata": {},
   "outputs": [
    {
     "data": {
      "text/plain": [
       "26845"
      ]
     },
     "execution_count": 4,
     "metadata": {},
     "output_type": "execute_result"
    }
   ],
   "source": [
    "rock_points = []\n",
    "for line in data:\n",
    "    np = len(line)\n",
    "    for i in range(np-1):\n",
    "        rock_points += draw_straight_line(line[i], line[i+1])\n",
    "\n",
    "rock_points = set(rock_points)\n",
    "\n",
    "ymax = max(y for x,y in rock_points) + 2\n",
    "xmin = 500 - ymax\n",
    "xmax = 500 + ymax\n",
    "for x in range(xmin, xmax+1):\n",
    "    rock_points.add((x, ymax))\n",
    "\n",
    "n_rocks = len(rock_points)\n",
    "\n",
    "n_sand = 0\n",
    "is_blocked = False\n",
    "while True:\n",
    "    n_sand += 1\n",
    "    (xs, ys) = (500, 0)\n",
    "    while True:\n",
    "        # print(xs, ys)\n",
    "        if (xs, ys+1) not in rock_points:\n",
    "            ys += 1\n",
    "            continue\n",
    "        if (xs-1, ys+1) not in rock_points:\n",
    "            xs -= 1\n",
    "            ys += 1\n",
    "            continue\n",
    "        if (xs+1, ys+1) not in rock_points:\n",
    "            xs += 1\n",
    "            ys += 1\n",
    "            continue\n",
    "\n",
    "        # rest\n",
    "        # print((xs, ys))\n",
    "        rock_points.add((xs, ys))\n",
    "        if xs == 500 and ys == 0:\n",
    "            is_blocked = True\n",
    "        break\n",
    "\n",
    "    if is_blocked:\n",
    "        break\n",
    "\n",
    "# n_sand = len(rock_points) - n_rocks\n",
    "n_sand"
   ]
  }
 ],
 "metadata": {
  "kernelspec": {
   "display_name": "Python 3",
   "language": "python",
   "name": "python3"
  },
  "language_info": {
   "codemirror_mode": {
    "name": "ipython",
    "version": 3
   },
   "file_extension": ".py",
   "mimetype": "text/x-python",
   "name": "python",
   "nbconvert_exporter": "python",
   "pygments_lexer": "ipython3",
   "version": "3.10.2 (v3.10.2:a58ebcc701, Jan 13 2022, 14:50:16) [Clang 13.0.0 (clang-1300.0.29.30)]"
  },
  "orig_nbformat": 4,
  "vscode": {
   "interpreter": {
    "hash": "aee8b7b246df8f9039afb4144a1f6fd8d2ca17a180786b69acc140d282b71a49"
   }
  }
 },
 "nbformat": 4,
 "nbformat_minor": 2
}
