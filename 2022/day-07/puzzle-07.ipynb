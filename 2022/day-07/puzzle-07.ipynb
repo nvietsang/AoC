{
 "cells": [
  {
   "cell_type": "code",
   "execution_count": 66,
   "metadata": {},
   "outputs": [
    {
     "data": {
      "text/plain": [
       "1243729"
      ]
     },
     "execution_count": 66,
     "metadata": {},
     "output_type": "execute_result"
    }
   ],
   "source": [
    "f = open(\"puzzle-07-input.txt\", \"r\")\n",
    "data = f.readlines()\n",
    "f.close()\n",
    "\n",
    "data = [line.replace(\"\\n\", \"\") for line in data]\n",
    "\n",
    "class ReturnCode:\n",
    "    CMD_CD_TO_HOME       = 0\n",
    "    CMD_CD_FORWARD       = 4\n",
    "    CMD_CD_BACKWARD      = 5\n",
    "    CMD_LIST             = 1\n",
    "    LISTED_DIRECTORY     = 2\n",
    "    LISTED_FILE          = 3\n",
    "\n",
    "def process_line(line):\n",
    "    line = line.split(\" \")\n",
    "\n",
    "    return_code = None\n",
    "    return_data = None\n",
    "\n",
    "    if line[1] == \"ls\":\n",
    "        assert len(line) == 2\n",
    "        return_code = ReturnCode.CMD_LIST\n",
    "    elif line[1] == \"cd\":\n",
    "        assert len(line) == 3\n",
    "        if line[2] == \"/\":\n",
    "            return_code = ReturnCode.CMD_CD_TO_HOME\n",
    "        elif line[2] == \"..\":\n",
    "            return_code = ReturnCode.CMD_CD_BACKWARD\n",
    "        else:\n",
    "            dirname = line[2]\n",
    "            return_code = ReturnCode.CMD_CD_FORWARD\n",
    "            return_data = dirname\n",
    "    elif line[0] == \"dir\":\n",
    "        assert len(line) == 2\n",
    "        dirname = line[1]\n",
    "        return_code = ReturnCode.LISTED_DIRECTORY \n",
    "        return_data = dirname\n",
    "    elif line[0].isnumeric():\n",
    "        assert len(line) == 2\n",
    "        filesize = int(line[0])\n",
    "        return_code = ReturnCode.LISTED_FILE \n",
    "        return_data = filesize\n",
    "    else:\n",
    "        raise ValueError\n",
    "\n",
    "    return (return_code, return_data)\n",
    "\n",
    "\n",
    "list_current_directories = []\n",
    "dict_directory_sizes = {}\n",
    "dict_directory_sizes[\"/\"] = 0\n",
    "\n",
    "for line in data:\n",
    "    code, attached = process_line(line)\n",
    "\n",
    "    match code:\n",
    "        case ReturnCode.CMD_CD_TO_HOME:\n",
    "            list_current_directories = [\"/\"]\n",
    "\n",
    "        case ReturnCode.CMD_CD_FORWARD:\n",
    "            list_current_directories.append(attached)\n",
    "            current_path = \"/\".join(list_current_directories)\n",
    "            if current_path not in dict_directory_sizes:\n",
    "                dict_directory_sizes[current_path] = 0\n",
    "\n",
    "        case ReturnCode.CMD_CD_BACKWARD:\n",
    "            list_current_directories.pop()\n",
    "             \n",
    "        case ReturnCode.CMD_LIST:\n",
    "            continue\n",
    "        case ReturnCode.LISTED_DIRECTORY:\n",
    "            continue\n",
    "        case ReturnCode.LISTED_FILE:\n",
    "            for i, dir in enumerate(list_current_directories):\n",
    "                path = \"/\".join(list_current_directories[:i+1])\n",
    "                dict_directory_sizes[path] += attached\n",
    "        case _:\n",
    "            raise ValueError\n",
    "\n",
    "# print(dict_directory_sizes)    \n",
    "ret = 0\n",
    "for s in dict_directory_sizes.values():\n",
    "    if s <= 100000:\n",
    "        ret += s\n",
    "ret\n",
    "    "
   ]
  },
  {
   "cell_type": "code",
   "execution_count": 71,
   "metadata": {},
   "outputs": [
    {
     "data": {
      "text/plain": [
       "4376732"
      ]
     },
     "execution_count": 71,
     "metadata": {},
     "output_type": "execute_result"
    }
   ],
   "source": [
    "space_to_free = 30000000 - (70000000 - dict_directory_sizes[\"/\"])\n",
    "space_to_free"
   ]
  },
  {
   "cell_type": "code",
   "execution_count": 74,
   "metadata": {},
   "outputs": [
    {
     "data": {
      "text/plain": [
       "4443914"
      ]
     },
     "execution_count": 74,
     "metadata": {},
     "output_type": "execute_result"
    }
   ],
   "source": [
    "dict_candidates = dict()\n",
    "for path, size in dict_directory_sizes.items():\n",
    "    if size >= space_to_free:\n",
    "        dict_candidates[size] = path\n",
    "\n",
    "sorted(dict_candidates.keys())[0] \n"
   ]
  }
 ],
 "metadata": {
  "kernelspec": {
   "display_name": "Python 3.10.2 64-bit",
   "language": "python",
   "name": "python3"
  },
  "language_info": {
   "codemirror_mode": {
    "name": "ipython",
    "version": 3
   },
   "file_extension": ".py",
   "mimetype": "text/x-python",
   "name": "python",
   "nbconvert_exporter": "python",
   "pygments_lexer": "ipython3",
   "version": "3.10.2"
  },
  "orig_nbformat": 4,
  "vscode": {
   "interpreter": {
    "hash": "aee8b7b246df8f9039afb4144a1f6fd8d2ca17a180786b69acc140d282b71a49"
   }
  }
 },
 "nbformat": 4,
 "nbformat_minor": 2
}
