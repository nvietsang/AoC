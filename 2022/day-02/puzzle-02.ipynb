{
 "cells": [
  {
   "cell_type": "code",
   "execution_count": 6,
   "metadata": {},
   "outputs": [],
   "source": [
    "f = open(\"puzzle-02-input.txt\", \"r\")\n",
    "data = f.read()\n",
    "f.close()\n",
    "\n",
    "data = data.split(\"\\n\")\n",
    "data = data[:-1]"
   ]
  },
  {
   "cell_type": "code",
   "execution_count": 12,
   "metadata": {},
   "outputs": [
    {
     "data": {
      "text/plain": [
       "11063"
      ]
     },
     "execution_count": 12,
     "metadata": {},
     "output_type": "execute_result"
    }
   ],
   "source": [
    "MY_ROCK     = 'X'\n",
    "MY_PAPER    = 'Y'\n",
    "MY_SCISSORS = 'Z'\n",
    "\n",
    "ELF_ROCK     = 'A'\n",
    "ELF_PAPER    = 'B'\n",
    "ELF_SCISSORS = 'C'\n",
    "\n",
    "ELF_WIN_I_LOSE = (6, 0)\n",
    "ELF_AND_I_DRAW = (3, 3)\n",
    "ELF_LOSE_I_WIN = (0, 6)\n",
    "\n",
    "SCORE_ROCK     = 1\n",
    "SCORE_PAPER    = 2\n",
    "SCORE_SCISSORS = 3\n",
    "\n",
    "def choice_scores(choice: str):\n",
    "    if choice == MY_ROCK or choice == ELF_ROCK:\n",
    "        return SCORE_ROCK\n",
    "    if choice == MY_PAPER or choice == ELF_PAPER:\n",
    "        return SCORE_PAPER\n",
    "    if choice == MY_SCISSORS or choice == ELF_SCISSORS:\n",
    "        return SCORE_SCISSORS\n",
    "    raise ValueError\n",
    "\n",
    "def outcome_scores(elf_choice: str, my_choice: str):\n",
    "    if elf_choice == ELF_ROCK and my_choice == MY_ROCK:\n",
    "        return ELF_AND_I_DRAW\n",
    "    if elf_choice == ELF_ROCK and my_choice == MY_PAPER:\n",
    "        return ELF_LOSE_I_WIN\n",
    "    if elf_choice == ELF_ROCK and my_choice == MY_SCISSORS:\n",
    "        return ELF_WIN_I_LOSE\n",
    "    if elf_choice == ELF_PAPER and my_choice == MY_ROCK:\n",
    "        return ELF_WIN_I_LOSE\n",
    "    if elf_choice == ELF_PAPER and my_choice == MY_PAPER:\n",
    "        return ELF_AND_I_DRAW\n",
    "    if elf_choice == ELF_PAPER and my_choice == MY_SCISSORS:\n",
    "        return ELF_LOSE_I_WIN\n",
    "    if elf_choice == ELF_SCISSORS and my_choice == MY_ROCK:\n",
    "        return ELF_LOSE_I_WIN\n",
    "    if elf_choice == ELF_SCISSORS and my_choice == MY_PAPER:\n",
    "        return ELF_WIN_I_LOSE\n",
    "    if elf_choice == ELF_SCISSORS and my_choice == MY_SCISSORS:\n",
    "        return ELF_AND_I_DRAW\n",
    "    raise ValueError\n",
    "\n",
    "\n",
    "def process_round(elf_choice: str, my_choice: str):\n",
    "    round_scores_elf = choice_scores(elf_choice)\n",
    "    round_scores_me  = choice_scores(my_choice)\n",
    "\n",
    "    (scores_elf, scores_me) = outcome_scores(elf_choice, my_choice)\n",
    "    round_scores_elf += scores_elf\n",
    "    round_scores_me  += scores_me\n",
    "\n",
    "    return (round_scores_elf, round_scores_me)\n",
    "\n",
    "\n",
    "total_scores_elf = 0\n",
    "total_scores_me  = 0\n",
    "for round in data:\n",
    "    elf_choice, my_choice = round.split(\" \")\n",
    "    (round_scores_elf, round_scores_me) = process_round(elf_choice, my_choice)\n",
    "    total_scores_elf += round_scores_elf\n",
    "    total_scores_me  += round_scores_me\n",
    "\n",
    "total_scores_me"
   ]
  },
  {
   "cell_type": "code",
   "execution_count": 13,
   "metadata": {},
   "outputs": [
    {
     "data": {
      "text/plain": [
       "10349"
      ]
     },
     "execution_count": 13,
     "metadata": {},
     "output_type": "execute_result"
    }
   ],
   "source": [
    "OUTCOME_LOSE = 'X'\n",
    "OUTCOME_DRAW = 'Y'\n",
    "OUTCOME_WIN  = 'Z'\n",
    "\n",
    "def set_my_choice(elf_choice: str, outcome: str):\n",
    "    if elf_choice == ELF_ROCK:\n",
    "        if outcome == OUTCOME_LOSE:\n",
    "            return MY_SCISSORS\n",
    "        if outcome == OUTCOME_DRAW:\n",
    "            return MY_ROCK\n",
    "        if outcome == OUTCOME_WIN:\n",
    "            return MY_PAPER\n",
    "        raise ValueError\n",
    "    if elf_choice == ELF_PAPER:\n",
    "        if outcome == OUTCOME_LOSE:\n",
    "            return MY_ROCK\n",
    "        if outcome == OUTCOME_DRAW:\n",
    "            return MY_PAPER\n",
    "        if outcome == OUTCOME_WIN:\n",
    "            return MY_SCISSORS\n",
    "        raise ValueError\n",
    "    if elf_choice == ELF_SCISSORS:\n",
    "        if outcome == OUTCOME_LOSE:\n",
    "            return MY_PAPER\n",
    "        if outcome == OUTCOME_DRAW:\n",
    "            return MY_SCISSORS\n",
    "        if outcome == OUTCOME_WIN:\n",
    "            return MY_ROCK\n",
    "        raise ValueError\n",
    "    raise ValueError\n",
    "\n",
    "total_scores_elf = 0\n",
    "total_scores_me  = 0\n",
    "for round in data:\n",
    "    elf_choice, outcome = round.split(\" \")\n",
    "    my_choice = set_my_choice(elf_choice, outcome)\n",
    "    (round_scores_elf, round_scores_me) = process_round(elf_choice, my_choice)\n",
    "    total_scores_elf += round_scores_elf\n",
    "    total_scores_me  += round_scores_me\n",
    "\n",
    "total_scores_me"
   ]
  }
 ],
 "metadata": {
  "kernelspec": {
   "display_name": "Python 3.10.2 64-bit",
   "language": "python",
   "name": "python3"
  },
  "language_info": {
   "codemirror_mode": {
    "name": "ipython",
    "version": 3
   },
   "file_extension": ".py",
   "mimetype": "text/x-python",
   "name": "python",
   "nbconvert_exporter": "python",
   "pygments_lexer": "ipython3",
   "version": "3.10.2"
  },
  "orig_nbformat": 4,
  "vscode": {
   "interpreter": {
    "hash": "aee8b7b246df8f9039afb4144a1f6fd8d2ca17a180786b69acc140d282b71a49"
   }
  }
 },
 "nbformat": 4,
 "nbformat_minor": 2
}
