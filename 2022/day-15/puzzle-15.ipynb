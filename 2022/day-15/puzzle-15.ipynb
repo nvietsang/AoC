{
 "cells": [
  {
   "attachments": {},
   "cell_type": "markdown",
   "metadata": {},
   "source": [
    "## Below is wrong solution"
   ]
  },
  {
   "cell_type": "code",
   "execution_count": 33,
   "metadata": {},
   "outputs": [],
   "source": [
    "f = open(\"puzzle-15-input.txt\", \"r\")\n",
    "data = f.read()\n",
    "f.close()\n",
    "\n",
    "data = data.splitlines()\n",
    "data = [line.replace(\",\", \"\").replace(\":\", \"\") for line in data]\n",
    "data = [line.split(\" \") for line in data]\n",
    "S = []\n",
    "B = []\n",
    "D = []\n",
    "\n",
    "for line in data:\n",
    "    Sx = int(line[2].split(\"=\")[1])\n",
    "    Sy = int(line[3].split(\"=\")[1])\n",
    "    Bx = int(line[8].split(\"=\")[1])\n",
    "    By = int(line[9].split(\"=\")[1])\n",
    "    S.append((Sx, Sy))\n",
    "    B.append((Bx, By))\n",
    "    D.append(abs(Sx - Bx) + abs(Sy - By))\n",
    "\n",
    "n = len(S)\n",
    "assert n == len(B)"
   ]
  },
  {
   "cell_type": "code",
   "execution_count": 34,
   "metadata": {},
   "outputs": [],
   "source": [
    "xmin = min([x for (x, y) in S] + [x for (x, y) in B])\n",
    "xmax = max([x for (x, y) in S] + [x for (x, y) in B])\n",
    "ymin = min([y for (x, y) in S] + [y for (x, y) in B])\n",
    "ymax = max([y for (x, y) in S] + [y for (x, y) in B])"
   ]
  },
  {
   "cell_type": "code",
   "execution_count": 41,
   "metadata": {},
   "outputs": [
    {
     "data": {
      "text/plain": [
       "-1649857"
      ]
     },
     "execution_count": 41,
     "metadata": {},
     "output_type": "execute_result"
    }
   ],
   "source": [
    "ymin"
   ]
  },
  {
   "cell_type": "code",
   "execution_count": 35,
   "metadata": {},
   "outputs": [
    {
     "name": "stdout",
     "output_type": "stream",
     "text": [
      "3876819\n"
     ]
    }
   ],
   "source": [
    "yc = 2000000\n",
    "count_possible_beacons = 0\n",
    "\n",
    "for xc in range(xmin, xmax+1):\n",
    "    is_possible = True\n",
    "    for i in range(n):\n",
    "        (Sx, Sy) = S[i]\n",
    "        if abs(Sx - xc) + abs(Sy - yc) <= D[i]:\n",
    "            is_possible = False\n",
    "            break\n",
    "    \n",
    "    if is_possible:\n",
    "        # print(xc,yc)\n",
    "        count_possible_beacons += 1\n",
    "\n",
    "count_beacons = len(set([(Bx, By) for (Bx, By) in B if By == yc]))\n",
    "count_impossible = (xmax - xmin + 1) - count_possible_beacons - count_beacons\n",
    "# print(count_possible_beacons)\n",
    "print(count_impossible)\n"
   ]
  },
  {
   "attachments": {},
   "cell_type": "markdown",
   "metadata": {},
   "source": [
    "## Below is correct solution"
   ]
  },
  {
   "cell_type": "code",
   "execution_count": 49,
   "metadata": {},
   "outputs": [
    {
     "data": {
      "text/plain": [
       "6078701"
      ]
     },
     "execution_count": 49,
     "metadata": {},
     "output_type": "execute_result"
    }
   ],
   "source": [
    "f = open(\"puzzle-15-input.txt\", \"r\")\n",
    "data = f.read()\n",
    "f.close()\n",
    "\n",
    "data = data.splitlines()\n",
    "data = [line.replace(\",\", \"\").replace(\":\", \"\") for line in data]\n",
    "data = [line.split(\" \") for line in data]\n",
    "\n",
    "yc = 2000000\n",
    "range_no_beacons = set()\n",
    "beacons_on_line = set()\n",
    "\n",
    "for line in data:\n",
    "    Sx = int(line[2].split(\"=\")[1])\n",
    "    Sy = int(line[3].split(\"=\")[1])\n",
    "    Bx = int(line[8].split(\"=\")[1])\n",
    "    By = int(line[9].split(\"=\")[1])\n",
    "    d = abs(Sx - Bx) + abs(Sy - By)\n",
    "    \n",
    "    if By == yc:\n",
    "        beacons_on_line.add((Bx, By))\n",
    "\n",
    "    if Sy - d <= yc <= Sy + d:\n",
    "        delta_x = d - abs(yc - Sy)\n",
    "        range_no_beacons.update(range(Sx-delta_x, Sx+delta_x+1))\n",
    "\n",
    "\n",
    "len(range_no_beacons) - len(beacons_on_line)"
   ]
  },
  {
   "cell_type": "code",
   "execution_count": 79,
   "metadata": {},
   "outputs": [
    {
     "name": "stderr",
     "output_type": "stream",
     "text": [
      "100%|██████████| 27/27 [02:03<00:00,  4.56s/it]\n"
     ]
    }
   ],
   "source": [
    "from collections import defaultdict\n",
    "from tqdm import tqdm\n",
    "\n",
    "f = open(\"puzzle-15-input.txt\", \"r\")\n",
    "data = f.read()\n",
    "f.close()\n",
    "\n",
    "data = data.splitlines()\n",
    "data = [line.replace(\",\", \"\").replace(\":\", \"\") for line in data]\n",
    "data = [line.split(\" \") for line in data]\n",
    "\n",
    "yc_max = 4000000\n",
    "xc_max = 4000000\n",
    "xc_min = 0\n",
    "yc_min = 0\n",
    "\n",
    "intervals_by_line = defaultdict(list)\n",
    "\n",
    "for line in tqdm(data):\n",
    "    xS = int(line[2].split(\"=\")[1])\n",
    "    yS = int(line[3].split(\"=\")[1])\n",
    "    xB = int(line[8].split(\"=\")[1])\n",
    "    yB = int(line[9].split(\"=\")[1])\n",
    "    \n",
    "    d = abs(xS - xB) + abs(yS - yB)\n",
    "\n",
    "    yc0 = max(yc_min, yS - d)\n",
    "    yc1 = min(yS + d, yc_max)\n",
    "\n",
    "    for yc in range(yc0, yc1 + 1):\n",
    "        dx = d - abs(yc - yS)\n",
    "        xc0 = max(xc_min, xS - dx)\n",
    "        xc1 = min(xS + dx, xc_max)\n",
    "        intervals_by_line[yc].append((xc0, xc1))\n"
   ]
  },
  {
   "cell_type": "code",
   "execution_count": 80,
   "metadata": {},
   "outputs": [],
   "source": [
    "assert len(intervals_by_line.keys()) == 4000001"
   ]
  },
  {
   "cell_type": "code",
   "execution_count": 81,
   "metadata": {},
   "outputs": [
    {
     "name": "stderr",
     "output_type": "stream",
     "text": [
      " 85%|████████▌ | 3400528/4000001 [00:20<00:03, 166647.54it/s]\n"
     ]
    },
    {
     "data": {
      "text/plain": [
       "12567351400528"
      ]
     },
     "execution_count": 81,
     "metadata": {},
     "output_type": "execute_result"
    }
   ],
   "source": [
    "def find_spot(intervals):\n",
    "    intervals = sorted(intervals)\n",
    "    xc = xc_min\n",
    "    for x0, x1 in intervals:\n",
    "        if xc < x0:\n",
    "            return xc\n",
    "        xc = max(xc, x1+1)\n",
    "    \n",
    "    if xc <= xc_max:\n",
    "        return xc\n",
    "\n",
    "    return None\n",
    "\n",
    "for yc, intervals in tqdm(intervals_by_line.items()):\n",
    "    xc = find_spot(intervals)\n",
    "    if xc:\n",
    "        break \n",
    "    \n",
    "xc * 4000000 + yc\n",
    "        \n"
   ]
  }
 ],
 "metadata": {
  "kernelspec": {
   "display_name": "Python 3",
   "language": "python",
   "name": "python3"
  },
  "language_info": {
   "codemirror_mode": {
    "name": "ipython",
    "version": 3
   },
   "file_extension": ".py",
   "mimetype": "text/x-python",
   "name": "python",
   "nbconvert_exporter": "python",
   "pygments_lexer": "ipython3",
   "version": "3.10.2"
  },
  "orig_nbformat": 4,
  "vscode": {
   "interpreter": {
    "hash": "aee8b7b246df8f9039afb4144a1f6fd8d2ca17a180786b69acc140d282b71a49"
   }
  }
 },
 "nbformat": 4,
 "nbformat_minor": 2
}
